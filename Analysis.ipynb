{
 "cells": [
  {
   "cell_type": "code",
   "execution_count": 1,
   "metadata": {},
   "outputs": [],
   "source": [
    "import pandas as pd\n",
    "import matplotlib.pyplot as plt\n",
    "import numpy as np\n",
    "import os"
   ]
  },
  {
   "cell_type": "code",
   "execution_count": 7,
   "metadata": {},
   "outputs": [],
   "source": [
    "# Set the directory where your CSV files are located\n",
    "directory = \"./Resources\"\n",
    "\n",
    "# List of CSV files in the directory\n",
    "csv_files = [file for file in os.listdir(directory) if file.endswith('.csv')]\n",
    "\n",
    "# Iterate over each CSV file\n",
    "for file in csv_files:\n",
    "    # Read the CSV file into a DataFrame\n",
    "    df = pd.read_csv(f'./Resources/{file}')\n",
    "    \n",
    "    # Extract the name of the file without the extension\n",
    "    file_name = os.path.splitext(file)[0]\n",
    "    \n",
    "    # Create a new column with the name of the file\n",
    "    df['File Name'] = file_name\n",
    "    \n",
    "    # Write the DataFrame back to a new CSV file with the updated column\n",
    "    df.to_csv(f'./Updated_Resources/{file_name}_with_name_column.csv', index=False)"
   ]
  },
  {
   "cell_type": "code",
   "execution_count": 8,
   "metadata": {},
   "outputs": [
    {
     "name": "stderr",
     "output_type": "stream",
     "text": [
      "/var/folders/hd/l4stjqk14jn9smh667z71gsw0000gn/T/ipykernel_46267/1080102819.py:9: FutureWarning: The behavior of DataFrame concatenation with empty or all-NA entries is deprecated. In a future version, this will no longer exclude empty or all-NA columns when determining the result dtypes. To retain the old behavior, exclude the relevant entries before the concat operation.\n",
      "  combined_df = pd.concat(dfs)\n"
     ]
    }
   ],
   "source": [
    "# Set the directory where your CSV files are located\n",
    "directory = \"./Updated_Resources\"\n",
    "\n",
    "# Get a list of all CSV files in the directory\n",
    "files = [file for file in os.listdir(directory) if file.endswith('.csv')]\n",
    "\n",
    "# Read each CSV file into a DataFrame and concatenate them into one DataFrame\n",
    "dfs = [pd.read_csv(os.path.join(directory, file)) for file in files]\n",
    "combined_df = pd.concat(dfs)\n",
    "\n",
    "# Write the combined DataFrame to a new CSV file\n",
    "combined_df.to_csv('./Updated_Resources/combined.csv', index=False)"
   ]
  },
  {
   "cell_type": "code",
   "execution_count": 11,
   "metadata": {},
   "outputs": [
    {
     "data": {
      "text/html": [
       "<div>\n",
       "<style scoped>\n",
       "    .dataframe tbody tr th:only-of-type {\n",
       "        vertical-align: middle;\n",
       "    }\n",
       "\n",
       "    .dataframe tbody tr th {\n",
       "        vertical-align: top;\n",
       "    }\n",
       "\n",
       "    .dataframe thead th {\n",
       "        text-align: right;\n",
       "    }\n",
       "</style>\n",
       "<table border=\"1\" class=\"dataframe\">\n",
       "  <thead>\n",
       "    <tr style=\"text-align: right;\">\n",
       "      <th></th>\n",
       "      <th>Date</th>\n",
       "      <th>Open</th>\n",
       "      <th>High</th>\n",
       "      <th>Low</th>\n",
       "      <th>Close</th>\n",
       "      <th>Adj Close</th>\n",
       "      <th>Volume</th>\n",
       "      <th>Ticker</th>\n",
       "    </tr>\n",
       "  </thead>\n",
       "  <tbody>\n",
       "    <tr>\n",
       "      <th>0</th>\n",
       "      <td>1993-03-12</td>\n",
       "      <td>2.291667</td>\n",
       "      <td>2.750000</td>\n",
       "      <td>2.250000</td>\n",
       "      <td>2.645833</td>\n",
       "      <td>2.357914</td>\n",
       "      <td>28573200</td>\n",
       "      <td>INTU</td>\n",
       "    </tr>\n",
       "    <tr>\n",
       "      <th>1</th>\n",
       "      <td>1993-03-15</td>\n",
       "      <td>2.687500</td>\n",
       "      <td>2.708333</td>\n",
       "      <td>2.583333</td>\n",
       "      <td>2.614583</td>\n",
       "      <td>2.330065</td>\n",
       "      <td>6580800</td>\n",
       "      <td>INTU</td>\n",
       "    </tr>\n",
       "    <tr>\n",
       "      <th>2</th>\n",
       "      <td>1993-03-16</td>\n",
       "      <td>2.583333</td>\n",
       "      <td>2.625000</td>\n",
       "      <td>2.520833</td>\n",
       "      <td>2.552083</td>\n",
       "      <td>2.274366</td>\n",
       "      <td>3928800</td>\n",
       "      <td>INTU</td>\n",
       "    </tr>\n",
       "    <tr>\n",
       "      <th>3</th>\n",
       "      <td>1993-03-17</td>\n",
       "      <td>2.520833</td>\n",
       "      <td>2.562500</td>\n",
       "      <td>2.416667</td>\n",
       "      <td>2.458333</td>\n",
       "      <td>2.190818</td>\n",
       "      <td>3170400</td>\n",
       "      <td>INTU</td>\n",
       "    </tr>\n",
       "    <tr>\n",
       "      <th>4</th>\n",
       "      <td>1993-03-18</td>\n",
       "      <td>2.520833</td>\n",
       "      <td>2.541667</td>\n",
       "      <td>2.458333</td>\n",
       "      <td>2.541667</td>\n",
       "      <td>2.265083</td>\n",
       "      <td>735600</td>\n",
       "      <td>INTU</td>\n",
       "    </tr>\n",
       "  </tbody>\n",
       "</table>\n",
       "</div>"
      ],
      "text/plain": [
       "         Date      Open      High       Low     Close  Adj Close    Volume  \\\n",
       "0  1993-03-12  2.291667  2.750000  2.250000  2.645833   2.357914  28573200   \n",
       "1  1993-03-15  2.687500  2.708333  2.583333  2.614583   2.330065   6580800   \n",
       "2  1993-03-16  2.583333  2.625000  2.520833  2.552083   2.274366   3928800   \n",
       "3  1993-03-17  2.520833  2.562500  2.416667  2.458333   2.190818   3170400   \n",
       "4  1993-03-18  2.520833  2.541667  2.458333  2.541667   2.265083    735600   \n",
       "\n",
       "  Ticker  \n",
       "0   INTU  \n",
       "1   INTU  \n",
       "2   INTU  \n",
       "3   INTU  \n",
       "4   INTU  "
      ]
     },
     "execution_count": 11,
     "metadata": {},
     "output_type": "execute_result"
    }
   ],
   "source": [
    "# Read back in the combined csv file with all the data\n",
    "file_path = './Updated_Resources/combined.csv'\n",
    "combined_df = pd.read_csv(file_path,encoding='utf-8')\n",
    "\n",
    "# Adjust name of File Name to Ticker for ease of use\n",
    "combined_df = combined_df.rename(columns={'File Name':'Ticker'})\n",
    "\n",
    "# Display first 5 of dataframe\n",
    "combined_df.head()"
   ]
  },
  {
   "cell_type": "code",
   "execution_count": null,
   "metadata": {},
   "outputs": [],
   "source": []
  }
 ],
 "metadata": {
  "kernelspec": {
   "display_name": "base",
   "language": "python",
   "name": "python3"
  },
  "language_info": {
   "codemirror_mode": {
    "name": "ipython",
    "version": 3
   },
   "file_extension": ".py",
   "mimetype": "text/x-python",
   "name": "python",
   "nbconvert_exporter": "python",
   "pygments_lexer": "ipython3",
   "version": "3.12.2"
  }
 },
 "nbformat": 4,
 "nbformat_minor": 2
}
